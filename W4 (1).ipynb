{
 "cells": [
  {
   "cell_type": "markdown",
   "id": "d971e858-4cbc-4bfe-8629-6eb25c2094ca",
   "metadata": {},
   "source": [
    "# Week 4 Assignment"
   ]
  },
  {
   "cell_type": "markdown",
   "id": "b9a49995-ddf5-4ad2-9c68-bb139c980d20",
   "metadata": {},
   "source": [
    "### __Introduction__\n",
    "This notebook was prepared by Patrick Brown. "
   ]
  },
  {
   "cell_type": "markdown",
   "id": "e13ebd53-4263-4a60-90e7-367d7a9f37ee",
   "metadata": {},
   "source": [
    "### Data Science Languages\n",
    "- Python\n",
    "- R\n",
    "- SQL"
   ]
  },
  {
   "cell_type": "markdown",
   "id": "22e62b5b-147a-4fc4-80c8-77e998fda7ed",
   "metadata": {},
   "source": [
    "### Data Science Libraries\n",
    "- TensorFlow\n",
    "- Pytorch\n",
    "- Numpy\n",
    "- Pandas"
   ]
  },
  {
   "cell_type": "markdown",
   "id": "2810b5ea-e900-4ea4-940e-1b1330699e26",
   "metadata": {},
   "source": [
    "### Data Science Tools\n",
    "\n",
    "| Python | R \n",
    "| --- | --- \n",
    "| Jupyter Notebook | RStudio \n",
    "| Pip | dplyr \n",
    "| VSCode | ggplot2 "
   ]
  },
  {
   "cell_type": "markdown",
   "id": "48c36a00-88b3-403a-967a-6546031b49c0",
   "metadata": {},
   "source": [
    "### Simple Arithmetic Expression Example"
   ]
  },
  {
   "cell_type": "code",
   "execution_count": 6,
   "id": "b653418f-fb05-443d-aeb1-103621b550ef",
   "metadata": {},
   "outputs": [
    {
     "data": {
      "text/plain": [
       "15"
      ]
     },
     "execution_count": 6,
     "metadata": {},
     "output_type": "execute_result"
    }
   ],
   "source": [
    "5*(2 + 1)"
   ]
  },
  {
   "cell_type": "markdown",
   "id": "a1953f01-0364-4c24-9b18-e35795207526",
   "metadata": {},
   "source": [
    "### Convert 240 minutes into hours"
   ]
  },
  {
   "cell_type": "code",
   "execution_count": 8,
   "id": "e5f6e37d-391b-4a6d-ad19-abc00a652336",
   "metadata": {},
   "outputs": [
    {
     "data": {
      "text/plain": [
       "4.0"
      ]
     },
     "execution_count": 8,
     "metadata": {},
     "output_type": "execute_result"
    }
   ],
   "source": [
    "240 / 60"
   ]
  },
  {
   "cell_type": "markdown",
   "id": "4df6fce3-d57e-49d7-892a-56f3684a5fd3",
   "metadata": {},
   "source": [
    "### Objectives\n",
    "- Complete Exercises\n",
    "- Share in Github\n",
    "- Submit Assignment"
   ]
  },
  {
   "cell_type": "markdown",
   "id": "665aeedd-ef17-440f-bbe1-c90631c99abc",
   "metadata": {},
   "source": [
    "### Author's Name\n",
    "__Patrick Brown__"
   ]
  }
 ],
 "metadata": {
  "kernelspec": {
   "display_name": "Python",
   "language": "python",
   "name": "conda-env-python-py"
  },
  "language_info": {
   "codemirror_mode": {
    "name": "ipython",
    "version": 3
   },
   "file_extension": ".py",
   "mimetype": "text/x-python",
   "name": "python",
   "nbconvert_exporter": "python",
   "pygments_lexer": "ipython3",
   "version": "3.7.12"
  }
 },
 "nbformat": 4,
 "nbformat_minor": 5
}
