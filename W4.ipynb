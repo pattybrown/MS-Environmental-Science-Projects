{
 "cells": [
  {
   "cell_type": "markdown",
   "id": "d971e858-4cbc-4bfe-8629-6eb25c2094ca",
   "metadata": {},
   "source": [
    "# My Jupyter Notebook on IBM Watson Studio"
   ]
  },
  {
   "cell_type": "markdown",
   "id": "b9a49995-ddf5-4ad2-9c68-bb139c980d20",
   "metadata": {},
   "source": [
    "## __Patrick Brown__\n",
    "Project Scientist "
   ]
  },
  {
   "cell_type": "markdown",
   "id": "8e6ed93c-f3b7-41bc-8b5c-4f9be1518f8f",
   "metadata": {},
   "source": [
    "_I am interested in using data science to help identify and implement solutions to complex environmental and natural resource challenges._"
   ]
  },
  {
   "cell_type": "markdown",
   "id": "e13ebd53-4263-4a60-90e7-367d7a9f37ee",
   "metadata": {},
   "source": [
    "### Calculate the difference between 10 and 5: "
   ]
  },
  {
   "cell_type": "code",
   "execution_count": 3,
   "id": "07d67171-3446-415a-8cac-faa75d68ba04",
   "metadata": {},
   "outputs": [
    {
     "data": {
      "text/plain": [
       "5"
      ]
     },
     "execution_count": 3,
     "metadata": {},
     "output_type": "execute_result"
    }
   ],
   "source": [
    "10 - 5"
   ]
  },
  {
   "cell_type": "markdown",
   "id": "2810b5ea-e900-4ea4-940e-1b1330699e26",
   "metadata": {},
   "source": [
    "- Main Bullet Point\n",
    "    - bulleted item 1\n",
    "    - bulleted item 2 \n",
    "    - bulleted item 3\n",
    "\n",
    "www.ibm.com\n",
    "\n",
    "| Column 1 | Column 2 | Column 3 |\n",
    "| --- | --- | --- |\n",
    "| Value 1 | Value 2 | Value 3 |"
   ]
  }
 ],
 "metadata": {
  "kernelspec": {
   "display_name": "Python",
   "language": "python",
   "name": "conda-env-python-py"
  },
  "language_info": {
   "codemirror_mode": {
    "name": "ipython",
    "version": 3
   },
   "file_extension": ".py",
   "mimetype": "text/x-python",
   "name": "python",
   "nbconvert_exporter": "python",
   "pygments_lexer": "ipython3",
   "version": "3.7.12"
  }
 },
 "nbformat": 4,
 "nbformat_minor": 5
}
